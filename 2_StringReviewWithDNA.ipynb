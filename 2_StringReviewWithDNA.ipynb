{
 "cells": [
  {
   "cell_type": "markdown",
   "source": "# Intro to Strings \n## with DNA Sequences",
   "metadata": {
    "tags": [],
    "cell_id": "00000-7845d921-1012-45bc-86a2-bda8514e63bb",
    "deepnote_cell_type": "markdown"
   }
  },
  {
   "cell_type": "markdown",
   "source": "`string` objects in Python represent text.  They can be created in several ways:\n\n```python\n>>> 'Hello'  # with apostrophes (\"single-quotes\")\n'Hello'\n\n>>> \"Hello\"  # with quotation marks (\"double-quotes\")\n\"Hello\"\n\n>>> \"\"\"Hello,     \n... my name is\n... Nick\"\"\"   # with triple-double-quotes (a \"docstring\", used for multi-line text)\n'Hello,\\nmy name is\\nNick'  \n\n>>> str(32)  # using the str() function to change into a string\n'32'\n```",
   "metadata": {
    "tags": [],
    "cell_id": "00001-43f8a1d6-e7b8-4171-90f4-92124c8941b3",
    "deepnote_cell_type": "markdown"
   }
  },
  {
   "cell_type": "markdown",
   "source": "Nucleotide sequences are often represented as strings:\n\n```python\n>>> seq = 'GCATTGGCT'\n```",
   "metadata": {
    "tags": [],
    "cell_id": "00002-b250d3c5-ff38-4c46-8e80-8c10d039b870",
    "deepnote_cell_type": "markdown"
   }
  },
  {
   "cell_type": "markdown",
   "source": "## String Operation Exercises\n\nModify the dna sequences below in a single line of code to match what's asked for.  Functions and methods that may be used are:\n\n### Operations\n  - `'GTC' * 3`\n  - `'GTC' + 'GTC'`\n  - `'GTC'[0]`\n  - `'GTC'[-1]`\n  - `'GTC'[1:]`\n  - `'GTC'[:-1]`\n  - `'GTC'[::-1]   # Note: Reverses the sequence`\n  - `'GTC' == 'GTC'`\n  - `'GTC' != 'GTC'`\n\n### Functions\n  - `len('GTC')`\n\n### Methods\n  - `'GTC'.count('A')`\n  - `'GtC'.upper()`\n  - `'GTc'.lower()`\n  - `'GTC'.isdigit()`\n  - `'GTC'.index('T')`\n  - `'GTC'.replace('G', 'C')`\n  - `'GTC-CCA'.split('-')`\n\n",
   "metadata": {
    "tags": [],
    "cell_id": "00003-08ad4179-02cc-440c-b42a-5679cd9cfe34",
    "deepnote_cell_type": "markdown"
   }
  },
  {
   "cell_type": "markdown",
   "source": "**Exercises**",
   "metadata": {
    "tags": [],
    "cell_id": "00002-fc392076-c4c5-4c65-ace1-951f9ab54146",
    "deepnote_cell_type": "markdown"
   }
  },
  {
   "cell_type": "markdown",
   "source": "Count the Number of \"G\" in the sequence",
   "metadata": {
    "tags": [],
    "cell_id": "00007-4c2309f9-6609-45c5-a89e-9868664b5f69",
    "deepnote_cell_type": "markdown"
   }
  },
  {
   "cell_type": "code",
   "metadata": {
    "tags": [],
    "cell_id": "00003-582507dc-2266-48b1-a446-34c026e4cdee",
    "deepnote_to_be_reexecuted": false,
    "source_hash": "41a532a",
    "execution_start": 1634079040821,
    "execution_millis": 4,
    "deepnote_cell_type": "code"
   },
   "source": "seq = \"GTGTCAGTCCCCATGAATCGATAG\"",
   "execution_count": null,
   "outputs": []
  },
  {
   "cell_type": "markdown",
   "source": "Count the number of \"AT\" repeats in the sequence",
   "metadata": {
    "tags": [],
    "cell_id": "00004-d51b6a81-a526-47a6-a3a1-1a373b6ac4a5",
    "deepnote_cell_type": "markdown"
   }
  },
  {
   "cell_type": "code",
   "metadata": {
    "tags": [],
    "cell_id": "00008-077a4e44-89ef-4a27-8034-88626e96f50c",
    "deepnote_to_be_reexecuted": false,
    "source_hash": "41a532a",
    "execution_start": 1634079085991,
    "execution_millis": 1,
    "deepnote_cell_type": "code"
   },
   "source": "seq = \"GTGTCAGTCCCCATGAATCGATAG\"",
   "execution_count": null,
   "outputs": []
  },
  {
   "cell_type": "markdown",
   "source": "Concatenate the following two sequences (i.e. combine them into one sequence)",
   "metadata": {
    "tags": [],
    "cell_id": "00008-25413327-f1e9-40f6-939a-0e9d8f1b5e5e",
    "deepnote_cell_type": "markdown"
   }
  },
  {
   "cell_type": "code",
   "metadata": {
    "tags": [],
    "cell_id": "00010-59d740f3-a38c-41da-9611-1d8b768336a4",
    "deepnote_to_be_reexecuted": false,
    "source_hash": "e000e2b3",
    "execution_start": 1634079160102,
    "execution_millis": 2,
    "deepnote_cell_type": "code"
   },
   "source": "seq1 = \"GTGTCAGT\"\nseq2 = \"TGAATCGATAG\"",
   "execution_count": null,
   "outputs": []
  },
  {
   "cell_type": "markdown",
   "source": "How long is the following sequence?",
   "metadata": {
    "tags": [],
    "cell_id": "00011-2ab3529f-0ccb-4f66-8bdc-3ea3f6010ccc",
    "deepnote_cell_type": "markdown"
   }
  },
  {
   "cell_type": "code",
   "metadata": {
    "tags": [],
    "cell_id": "00012-e4360748-342a-4d43-880a-e93ed8122d04",
    "deepnote_to_be_reexecuted": false,
    "source_hash": "41a532a",
    "execution_start": 1634080856782,
    "execution_millis": 1,
    "deepnote_cell_type": "code"
   },
   "source": "seq = \"GTGTCAGTCCCCATGAATCGATAG\"",
   "execution_count": null,
   "outputs": []
  },
  {
   "cell_type": "markdown",
   "source": "What is the 7th nucleotide in this sequence?",
   "metadata": {
    "tags": [],
    "cell_id": "00013-3eff39fd-3694-4ea8-b469-7338461c05de",
    "deepnote_cell_type": "markdown"
   }
  },
  {
   "cell_type": "code",
   "metadata": {
    "tags": [],
    "cell_id": "00014-d9885058-078e-4316-bc75-a3be08a63e66",
    "deepnote_to_be_reexecuted": false,
    "source_hash": "41a532a",
    "execution_start": 1634081148579,
    "execution_millis": 1,
    "deepnote_cell_type": "code"
   },
   "source": "seq = \"GTGTCAGTCCCCATGAATCGATAG\"",
   "execution_count": null,
   "outputs": []
  },
  {
   "cell_type": "markdown",
   "source": "What is the 3rd-from-the-last nucleotide in this sequence?",
   "metadata": {
    "tags": [],
    "cell_id": "00015-762e255a-0236-47f1-8b05-f2f1ff08ecc4",
    "deepnote_cell_type": "markdown"
   }
  },
  {
   "cell_type": "code",
   "metadata": {
    "tags": [],
    "cell_id": "00016-740974fb-b373-443e-9079-25e9a29b1f99",
    "deepnote_to_be_reexecuted": false,
    "source_hash": "41a532a",
    "execution_start": 1634081182699,
    "execution_millis": 1,
    "deepnote_cell_type": "code"
   },
   "source": "seq = \"GTGTCAGTCCCCATGAATCGATAG\"",
   "execution_count": null,
   "outputs": []
  },
  {
   "cell_type": "markdown",
   "source": "Repeat the following sequence 13 times",
   "metadata": {
    "tags": [],
    "cell_id": "00010-cba5a2d8-f65c-4394-946c-4a98eefd7630",
    "deepnote_cell_type": "markdown"
   }
  },
  {
   "cell_type": "code",
   "metadata": {
    "tags": [],
    "cell_id": "00013-93c65027-89e2-4a78-a619-dc5b0daf8f83",
    "deepnote_to_be_reexecuted": false,
    "source_hash": "e8325bd0",
    "execution_start": 1634079205489,
    "execution_millis": 0,
    "deepnote_cell_type": "code"
   },
   "source": "gc = \"GC\"",
   "execution_count": null,
   "outputs": []
  },
  {
   "cell_type": "markdown",
   "source": "Replace the incorrect letter with an empty string (i.e. delete the letter)",
   "metadata": {
    "tags": [],
    "cell_id": "00013-0473c5b5-e6a6-4e56-8e4a-54d887bdf5a7",
    "deepnote_cell_type": "markdown"
   }
  },
  {
   "cell_type": "code",
   "metadata": {
    "tags": [],
    "cell_id": "00014-21679293-a7e9-4f78-ab6a-5ed90cec9782",
    "deepnote_to_be_reexecuted": false,
    "source_hash": "4bf1e4b3",
    "execution_start": 1634079290023,
    "execution_millis": 1,
    "deepnote_cell_type": "code"
   },
   "source": "seq = \"GTGXXGTXCCXCCATGXAATCGXATA\"",
   "execution_count": null,
   "outputs": []
  },
  {
   "cell_type": "markdown",
   "source": "Keep only the first six nucleotides in this sequence",
   "metadata": {
    "tags": [],
    "cell_id": "00021-8331d446-a336-4950-ab3e-3584761b9945",
    "deepnote_cell_type": "markdown"
   }
  },
  {
   "cell_type": "code",
   "metadata": {
    "tags": [],
    "cell_id": "00022-3536ebf8-08f8-4e96-9faf-6a8b5a304013",
    "deepnote_to_be_reexecuted": false,
    "source_hash": "41a532a",
    "execution_start": 1634081214827,
    "execution_millis": 5,
    "deepnote_cell_type": "code"
   },
   "source": "seq = \"GTGTCAGTCCCCATGAATCGATAG\"",
   "execution_count": null,
   "outputs": []
  },
  {
   "cell_type": "markdown",
   "source": "Standardize the formatting of this sequence",
   "metadata": {
    "tags": [],
    "cell_id": "00014-d7405393-4e09-4348-b3eb-73f3d5c508f4",
    "deepnote_cell_type": "markdown"
   }
  },
  {
   "cell_type": "code",
   "metadata": {
    "tags": [],
    "cell_id": "00017-9265e569-65b1-4e0e-a7f1-03f600501257",
    "deepnote_to_be_reexecuted": false,
    "source_hash": "5ceb027e",
    "execution_start": 1634079427930,
    "execution_millis": 1,
    "deepnote_cell_type": "code"
   },
   "source": "seq = \"GtCGAaaCCgTaGcTAgc\"",
   "execution_count": null,
   "outputs": []
  },
  {
   "cell_type": "markdown",
   "source": "Split the following string around the empty space into a list of sequences",
   "metadata": {
    "tags": [],
    "cell_id": "00017-2115d821-3cf9-4b10-9a11-3b91c7d18d06",
    "deepnote_cell_type": "markdown"
   }
  },
  {
   "cell_type": "code",
   "metadata": {
    "tags": [],
    "cell_id": "00017-cd7e0ba1-54d1-4833-a336-5be1d6e9d7ec",
    "deepnote_to_be_reexecuted": false,
    "source_hash": "140b9420",
    "execution_start": 1634079573701,
    "execution_millis": 1,
    "deepnote_cell_type": "code"
   },
   "source": "seqs = \"GTTCGAAAG GACCTGATTATAG AACCGATTTA\"",
   "execution_count": null,
   "outputs": []
  },
  {
   "cell_type": "markdown",
   "source": "Reverse this sequence",
   "metadata": {
    "tags": [],
    "cell_id": "00027-a018e06b-da15-4a11-9acc-1a09569311bd",
    "deepnote_cell_type": "markdown"
   }
  },
  {
   "cell_type": "code",
   "metadata": {
    "tags": [],
    "cell_id": "00027-44bc90e1-94c1-4dd5-acb0-6eead8708776",
    "deepnote_to_be_reexecuted": false,
    "source_hash": "41a532a",
    "execution_start": 1634082719763,
    "execution_millis": 4,
    "deepnote_cell_type": "code"
   },
   "source": "seq = \"GTGTCAGTCCCCATGAATCGATAG\"",
   "execution_count": null,
   "outputs": []
  },
  {
   "cell_type": "markdown",
   "source": "What percentage of strong nucleotides (G and C) are there in this sequence?",
   "metadata": {
    "tags": [],
    "cell_id": "00019-ff7565ff-ad94-4e5c-93da-0cfda3494505",
    "deepnote_cell_type": "markdown"
   }
  },
  {
   "cell_type": "code",
   "metadata": {
    "tags": [],
    "cell_id": "00020-a614801b-0e9e-4aec-899e-371d4dab1e91",
    "deepnote_to_be_reexecuted": false,
    "source_hash": "41a532a",
    "execution_start": 1634082723387,
    "execution_millis": 3,
    "deepnote_cell_type": "code"
   },
   "source": "seq = \"GTGTCAGTCCCCATGAATCGATAG\"",
   "execution_count": null,
   "outputs": []
  },
  {
   "cell_type": "markdown",
   "source": "Is this sequence the same forwards and backwards (i.e. a palindrome)?",
   "metadata": {
    "tags": [],
    "cell_id": "00031-9f1903c4-213b-46ae-870b-3b78d6cb6967",
    "deepnote_cell_type": "markdown"
   }
  },
  {
   "cell_type": "code",
   "metadata": {
    "tags": [],
    "cell_id": "00032-e853c1a7-4ed8-4f0a-96f8-01f45a530915",
    "deepnote_to_be_reexecuted": false,
    "source_hash": "e9788ffd",
    "execution_start": 1634083069195,
    "execution_millis": 1,
    "deepnote_cell_type": "code"
   },
   "source": "seq = \"TCGATCTAGCGCGAATATCGGAGAAGAGGCTATAAGCGCGATCTAGCT\"",
   "execution_count": null,
   "outputs": []
  },
  {
   "cell_type": "markdown",
   "source": "## Files\n\n### Writing Strings to Files\n\nStrings can be saved to text files by making a `File` object with the `open()` function and writing the string to it.  Here are two ways to do it:\n\n```python\nmy_file = open('myfile.txt', 'w')  # open in 'write' mode\nmy_file.write('This is my text')\nmy_file.close()\n```\n\nA shorter version of this is:\n```python\nwith open('myfile.txt', 'w') as my_file:\n    my_file.write('This is my text')\n\nEven shorter uses the `Path` object from the pathlib package:\n```python\nfrom pathlib import Path\nPath('myfile.txt').write_text('This is my text')\n```\n\n### Reading Strings from Files\n\nReading works in a similar way\n\n```python\nmy_file = open('myfile.txt')\ntext = my_file.read()\nmy_file.close()\n```\n\nA shorter version of this is:\n```python\nwith open('myfile.txt') as my_file:\n    text = my_file.read()\n\n```\n\nEven shorter: \n```python\nfrom pathlib import Path\ntext = Path('myfile.txt').read_text()\n```",
   "metadata": {
    "tags": [],
    "cell_id": "00018-839a5e65-599d-476a-ab1c-fe84fc113e9f",
    "deepnote_cell_type": "markdown"
   }
  },
  {
   "cell_type": "markdown",
   "source": "**Exercises**",
   "metadata": {
    "tags": [],
    "cell_id": "00019-70c9ec99-2d20-478a-9073-ba5513090f06",
    "deepnote_cell_type": "markdown"
   }
  },
  {
   "cell_type": "markdown",
   "source": "Write the following sequence to a file called \"sequence1.txt\":",
   "metadata": {
    "tags": [],
    "cell_id": "00023-199ff123-76d2-4607-9b6e-4a6698b0e697",
    "deepnote_cell_type": "markdown"
   }
  },
  {
   "cell_type": "code",
   "metadata": {
    "tags": [],
    "cell_id": "00024-0eb95e2d-ca25-4664-8f71-076cce1ee3f8",
    "deepnote_to_be_reexecuted": false,
    "source_hash": "41a532a",
    "execution_start": 1634079904316,
    "execution_millis": 0,
    "deepnote_cell_type": "code"
   },
   "source": "seq = \"GTGTCAGTCCCCATGAATCGATAG\"",
   "execution_count": null,
   "outputs": []
  },
  {
   "cell_type": "markdown",
   "source": "Read the sequence from the file back into Python",
   "metadata": {
    "tags": [],
    "cell_id": "00027-192aaa1c-5e90-4b5b-a94a-5172d92ed1c6",
    "deepnote_cell_type": "markdown"
   }
  },
  {
   "cell_type": "code",
   "metadata": {
    "tags": [],
    "cell_id": "00025-beed18e8-f187-4740-91b4-221548c8a75c",
    "deepnote_cell_type": "code"
   },
   "source": "",
   "execution_count": null,
   "outputs": []
  },
  {
   "cell_type": "markdown",
   "metadata": {
    "tags": [],
    "cell_id": "00039-dce187d2-f1be-4402-ab68-e0a2e17938fc",
    "deepnote_cell_type": "markdown"
   },
   "source": "### Lists\n\n##### Operations\n\n  - `['a', 'b', 'c']`\n  - `[1, 'a', True]`\n  - `['a', 'b', 'c'][1]  # b`\n  - `['a', 'b', 'c'][-1]  # c`\n  - `['a', 'b', 'c'][:2]  # ['a', 'b']`\n  - `['a', 'b'] * 2  # ['a', 'b', 'a', 'b']`\n  - `[1, 2] + [4]  # [1, 2, 4]`\n  - `my_list[2] = 99`\n\n\n\n##### Functions\n\n  - `len(['a', 'b', 'c'])  # 3`\n  - `max([10, 11, 12])  # 12`\n  - `min([10, 11, 12])  # 10`\n  - `sum([10, 11, 12])  # 33`\n\n##### Methods\n\n  - `my_list.append('d')`\n  - `my_list.extend(['d', 'e'])`\n  - `my_list.insert('f', 2)`\n  - `my_list.find('b')`\n  \n\n",
   "execution_count": null
  },
  {
   "cell_type": "markdown",
   "source": "**Exercises**",
   "metadata": {
    "tags": [],
    "cell_id": "00046-12cfda4a-4d39-4dae-bef6-ee92b4cdfee0",
    "deepnote_cell_type": "markdown"
   }
  },
  {
   "cell_type": "markdown",
   "source": "Replace 'b', with 'B'",
   "metadata": {
    "tags": [],
    "cell_id": "00049-db82d520-c9d6-4d8b-ac86-a10c3193a129",
    "deepnote_cell_type": "markdown"
   },
   "outputs": [],
   "execution_count": null
  },
  {
   "outputs": [],
   "execution_count": 1,
   "cell_type": "code",
   "source": "letters = ['A', 'b', 'C', 'D']",
   "metadata": {
    "tags": [],
    "cell_id": "00050-30091855-10cf-4798-8c6d-5dd3a7c81ee6",
    "deepnote_to_be_reexecuted": false,
    "source_hash": "6ffa5cc8",
    "execution_start": 1637222081457,
    "execution_millis": 1,
    "deepnote_cell_type": "code"
   }
  },
  {
   "cell_type": "markdown",
   "source": "Get the first 3 letters from the list",
   "metadata": {
    "tags": [],
    "cell_id": "00051-ef299e60-6b5f-47db-9da2-890b975eb9ec",
    "deepnote_cell_type": "markdown"
   },
   "outputs": [],
   "execution_count": null
  },
  {
   "outputs": [],
   "execution_count": 2,
   "cell_type": "code",
   "source": "letters = ['a', 'b', 'c', 'd', 'e']",
   "metadata": {
    "tags": [],
    "cell_id": "00052-eafa2351-3be1-4846-80fe-1f4007bbeaf1",
    "deepnote_to_be_reexecuted": false,
    "source_hash": "80eb0bbe",
    "execution_start": 1637222132101,
    "execution_millis": 2,
    "deepnote_cell_type": "code"
   }
  },
  {
   "cell_type": "markdown",
   "source": "How many items are in this list?",
   "metadata": {
    "tags": [],
    "cell_id": "00047-f6170671-b790-4777-937e-bfd41eea2fd2",
    "deepnote_cell_type": "markdown"
   },
   "outputs": [],
   "execution_count": null
  },
  {
   "cell_type": "code",
   "source": "people = ['Rachel', 'Monica', 'Joey', 'Phoebe', 'Chandler']",
   "metadata": {
    "tags": [],
    "cell_id": "00048-047ae44e-6fc6-4940-84dc-6d0576b0d7a5",
    "deepnote_cell_type": "code"
   },
   "outputs": [],
   "execution_count": null
  },
  {
   "cell_type": "markdown",
   "source": "*Bonus, non-Python question*: What name is missing from this list?",
   "metadata": {
    "tags": [],
    "cell_id": "00049-5bb7aac8-54f8-4e72-8b81-8a8044052f5d",
    "deepnote_cell_type": "markdown"
   },
   "outputs": [],
   "execution_count": null
  },
  {
   "cell_type": "markdown",
   "source": "Reverse the list",
   "metadata": {
    "tags": [],
    "cell_id": "00053-f68032ec-be54-4173-a989-ce14c44e48ff",
    "deepnote_cell_type": "markdown"
   },
   "outputs": [],
   "execution_count": null
  },
  {
   "outputs": [],
   "execution_count": 3,
   "cell_type": "code",
   "source": "letters = ['a', 'b', 'c', 'd', 'e']",
   "metadata": {
    "tags": [],
    "cell_id": "00054-a1069a2c-6c70-4636-b089-4de72cdce785",
    "deepnote_to_be_reexecuted": false,
    "source_hash": "80eb0bbe",
    "execution_start": 1637222147008,
    "execution_millis": 4,
    "deepnote_cell_type": "code"
   }
  },
  {
   "cell_type": "markdown",
   "source": "Find two different ways to make [3, 4, 5, 6]",
   "metadata": {
    "tags": [],
    "cell_id": "00047-14f9a77f-b19d-42a0-be08-d804eb04766f",
    "deepnote_cell_type": "markdown"
   },
   "outputs": [],
   "execution_count": null
  },
  {
   "cell_type": "code",
   "source": "data = [3, 4, 5]\nnew_value = 6",
   "metadata": {
    "tags": [],
    "cell_id": "00043-9bf56414-4e6b-4950-b08b-10d63b121b96",
    "deepnote_cell_type": "code"
   },
   "outputs": [],
   "execution_count": null
  },
  {
   "cell_type": "code",
   "source": "data = [3, 4, 5]\nnew_value = 6",
   "metadata": {
    "tags": [],
    "cell_id": "00050-2a95939d-4a45-474a-80b9-570bc6617360",
    "deepnote_cell_type": "code"
   },
   "outputs": [],
   "execution_count": null
  },
  {
   "cell_type": "markdown",
   "source": "Find two different ways to concatenate these two lists",
   "metadata": {
    "tags": [],
    "cell_id": "00055-079547e1-6007-44a4-b3a8-2f5d1ecde2f4",
    "deepnote_to_be_reexecuted": false,
    "source_hash": "d5669190",
    "execution_start": 1637222168209,
    "execution_millis": 180,
    "deepnote_cell_type": "markdown"
   },
   "outputs": [],
   "execution_count": 4
  },
  {
   "cell_type": "code",
   "source": "aa = [1, 2, 3]\nbb = [4, 5, 6]",
   "metadata": {
    "tags": [],
    "cell_id": "00056-48999327-d22d-4265-b4c1-2b51e004a524",
    "deepnote_to_be_reexecuted": false,
    "source_hash": "49735af7",
    "execution_start": 1637222191973,
    "execution_millis": 7,
    "deepnote_cell_type": "code"
   },
   "outputs": [],
   "execution_count": 5
  },
  {
   "cell_type": "code",
   "source": "aa = [1, 2, 3]\nbb = [4, 5, 6]",
   "metadata": {
    "tags": [],
    "cell_id": "00054-67d20232-1e1e-4931-8126-d3e298e8b15a",
    "deepnote_cell_type": "code"
   },
   "outputs": [],
   "execution_count": null
  },
  {
   "cell_type": "markdown",
   "source": "**Exercises**  Without writing loops, Combine String and List techniques to solve the following:",
   "metadata": {
    "tags": [],
    "cell_id": "00057-a97c387d-f1c9-46a1-8155-482d0140df76",
    "deepnote_cell_type": "markdown"
   },
   "outputs": [],
   "execution_count": null
  },
  {
   "outputs": [],
   "execution_count": null,
   "cell_type": "markdown",
   "source": "Uppercase both items in the list",
   "metadata": {
    "tags": [],
    "cell_id": "00058-7306b18b-7619-4af0-b7f3-b55e09d7e26d",
    "deepnote_cell_type": "markdown"
   }
  },
  {
   "outputs": [],
   "execution_count": 11,
   "cell_type": "code",
   "source": "seqs = ['gcTTA', 'GttTTGgt']",
   "metadata": {
    "tags": [],
    "cell_id": "00059-ff3650e4-8c5e-4d0d-9013-7f1a8e1456da",
    "deepnote_to_be_reexecuted": false,
    "source_hash": "a115b5be",
    "execution_start": 1637222599757,
    "execution_millis": 1,
    "deepnote_cell_type": "code"
   }
  },
  {
   "cell_type": "markdown",
   "source": "Lowercase both items in the list",
   "metadata": {
    "tags": [],
    "cell_id": "00060-1e28e85a-acf8-4d2c-ba38-4627922bba8f",
    "deepnote_cell_type": "markdown"
   },
   "outputs": [],
   "execution_count": null
  },
  {
   "outputs": [],
   "execution_count": 10,
   "cell_type": "code",
   "source": "seqs = ['gcTTA', 'GttTTGgt', 'GGTAATA']",
   "metadata": {
    "tags": [],
    "cell_id": "00060-5ca3c72f-66ea-4032-bbd1-f8236920314d",
    "deepnote_to_be_reexecuted": false,
    "source_hash": "95ae0b6e",
    "execution_start": 1637222590392,
    "execution_millis": 10,
    "deepnote_cell_type": "code"
   }
  },
  {
   "cell_type": "markdown",
   "source": "Make a list of only the first codon (the first 3 nucleotides) in each sequence",
   "metadata": {
    "tags": [],
    "cell_id": "00062-5269e91f-eac0-47e6-8ffb-987e2f8fc6c0",
    "deepnote_cell_type": "markdown"
   },
   "outputs": [],
   "execution_count": null
  },
  {
   "outputs": [],
   "execution_count": 9,
   "cell_type": "code",
   "source": "seqs = ['GGTATTA', 'GGCCAG', 'CCAGGATTAG']",
   "metadata": {
    "tags": [],
    "cell_id": "00063-59b6c258-1157-48ae-a650-158e059e2a87",
    "deepnote_to_be_reexecuted": false,
    "source_hash": "8efe34bd",
    "execution_start": 1637222580244,
    "execution_millis": 13,
    "deepnote_cell_type": "code"
   }
  },
  {
   "outputs": [],
   "execution_count": null,
   "cell_type": "markdown",
   "source": "Make a list of seqs from each double-seq, without spaces\n(e.g. ['ag ct', 'cc gg'] -> ['ag', 'ct', 'cc', 'gg'])",
   "metadata": {
    "tags": [],
    "cell_id": "00060-9d714e70-050a-4288-8946-c97bce9c3633",
    "deepnote_cell_type": "markdown"
   }
  },
  {
   "outputs": [],
   "execution_count": 7,
   "cell_type": "code",
   "source": "seq_pairs = ['aggg ctgt ggtta ggcaac cca', 'ccag gg ccagg aattag aacccgcgt']",
   "metadata": {
    "tags": [],
    "cell_id": "00061-ae0b22d5-ebbc-4703-ad3f-f163d005d277",
    "deepnote_to_be_reexecuted": false,
    "source_hash": "ed4227fa",
    "execution_start": 1637222468496,
    "execution_millis": 2,
    "deepnote_cell_type": "code"
   }
  },
  {
   "cell_type": "markdown",
   "source": "",
   "metadata": {
    "tags": [],
    "cell_id": "00062-3b6c265d-f8f9-47e9-8e8a-f5ff0525543c",
    "deepnote_cell_type": "markdown"
   },
   "outputs": [],
   "execution_count": null
  },
  {
   "cell_type": "markdown",
   "source": "<a style='text-decoration:none;line-height:16px;display:flex;color:#5B5B62;padding:10px;justify-content:end;' href='https://deepnote.com?utm_source=created-in-deepnote-cell&projectId=e5e56516-5352-4a43-932d-dc3488255854' target=\"_blank\">\n<img alt='Created in deepnote.com' style='display:inline;max-height:16px;margin:0px;margin-right:7.5px;' src='data:image/svg+xml;base64,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' > </img>\nCreated in <span style='font-weight:600;margin-left:4px;'>Deepnote</span></a>",
   "metadata": {
    "tags": [],
    "created_in_deepnote_cell": true,
    "deepnote_cell_type": "markdown"
   }
  }
 ],
 "nbformat": 4,
 "nbformat_minor": 2,
 "metadata": {
  "orig_nbformat": 2,
  "deepnote": {
   "is_reactive": false
  },
  "deepnote_notebook_id": "e2c9dcf3-b782-4bae-addb-408b3fecdde6",
  "deepnote_execution_queue": []
 }
}