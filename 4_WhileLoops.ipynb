{
 "cells": [
  {
   "cell_type": "markdown",
   "source": "## While Loops\n\nWhile loops repeat a block of code if a stated condition is true.  By changing the \ncondition inside the loop, the code can be set to run a limited number of times.",
   "metadata": {
    "tags": [],
    "cell_id": "00000-464f0bbd-ac83-4e32-b599-db996c5e7950",
    "deepnote_cell_type": "markdown"
   }
  },
  {
   "cell_type": "markdown",
   "source": "### Using an Incrementer\n\n```\nx = 0              # Initialize the incrementer\nwhile x < 4:       # Set the loop breaking condition\n  x += 1           # *incrementing* the incrementer\n  print(\"Hello!\")  # Do the work\n```",
   "metadata": {
    "tags": [],
    "cell_id": "00000-c23c22ff-b227-431d-8087-eec03ab48819",
    "deepnote_cell_type": "markdown"
   }
  },
  {
   "cell_type": "markdown",
   "source": "**Exercises**: Using `while` loops, do the following tasks",
   "metadata": {
    "tags": [],
    "cell_id": "00001-1b68e7f4-bcd4-4cab-8d5d-44b8c6250216",
    "deepnote_cell_type": "markdown"
   }
  },
  {
   "cell_type": "markdown",
   "source": "Print \"Hello World\" 10 times",
   "metadata": {
    "tags": [],
    "cell_id": "00002-50592beb-9b0e-4e90-951b-19d02d82a4ad",
    "deepnote_cell_type": "markdown"
   }
  },
  {
   "cell_type": "code",
   "metadata": {
    "tags": [],
    "cell_id": "00003-806cbd84-3377-4a6f-8c1f-aef04b1c77c6",
    "deepnote_cell_type": "code"
   },
   "source": "",
   "execution_count": null,
   "outputs": []
  },
  {
   "cell_type": "markdown",
   "source": "Compute 1 + 2 + 3 + 4 + 5... until 100.  (i.e. 100!)",
   "metadata": {
    "tags": [],
    "cell_id": "00004-474dbe28-680f-45cc-bfce-b26d873e7bad",
    "deepnote_cell_type": "markdown"
   }
  },
  {
   "cell_type": "code",
   "metadata": {
    "tags": [],
    "cell_id": "00004-85f094c4-d000-4324-818e-77c06828f15e",
    "deepnote_to_be_reexecuted": false,
    "source_hash": "b623e53d",
    "execution_start": 1637223387702,
    "execution_millis": 1,
    "deepnote_cell_type": "code"
   },
   "source": "",
   "outputs": [],
   "execution_count": 0
  },
  {
   "cell_type": "markdown",
   "source": "Make the list [10, 20, 30, 40, ..., 200]",
   "metadata": {
    "tags": [],
    "cell_id": "00008-57ca677e-7462-4633-8334-1b4d7f5dcf9a",
    "deepnote_cell_type": "markdown"
   }
  },
  {
   "cell_type": "code",
   "metadata": {
    "tags": [],
    "cell_id": "00007-cd6aad42-1e60-4021-92d4-e247c62310eb",
    "deepnote_cell_type": "code"
   },
   "source": "",
   "execution_count": null,
   "outputs": []
  },
  {
   "cell_type": "markdown",
   "source": "Compute 1 + 2 - 3 + 4 - 5 + 6 - 7... until 100. \n\n*Tip*: `x % 2` helps determine if a number is odd or even",
   "metadata": {
    "tags": [],
    "cell_id": "00006-eed07f64-f274-4f2d-9224-9db8d7cb2ad3",
    "deepnote_cell_type": "markdown"
   }
  },
  {
   "cell_type": "code",
   "metadata": {
    "tags": [],
    "cell_id": "00007-11c8fc84-c1d3-43e7-9f7c-28723af87c92",
    "deepnote_cell_type": "code"
   },
   "source": "",
   "execution_count": null,
   "outputs": []
  },
  {
   "cell_type": "markdown",
   "source": "print N, for which the sum of all the numbers from 1 to N is less than 200",
   "metadata": {
    "tags": [],
    "cell_id": "00011-3d67bd56-314c-44be-88dd-ce550809a64a",
    "deepnote_cell_type": "markdown"
   }
  },
  {
   "cell_type": "code",
   "metadata": {
    "tags": [],
    "cell_id": "00012-8f2cba7b-2d64-472c-aae7-8afc8974fa53",
    "deepnote_to_be_reexecuted": false,
    "source_hash": "b623e53d",
    "execution_start": 1637223709953,
    "execution_millis": 1,
    "deepnote_cell_type": "code"
   },
   "source": "",
   "outputs": [],
   "execution_count": 0
  },
  {
   "cell_type": "markdown",
   "source": "### Initializing a Data Structure\n\n```python\nnew_list = []                    # Initialize the new data structure\ni = 0                            # Initialize the incrementer\nwhile i <= 10:                   # Set the loop condition\n    i += i                       # Increment the incrementer\n    new_value = 'Hello'          # Compute the new value\n    new_list.append(new_value)   # Put the new value in the data structure.\n```",
   "metadata": {
    "tags": [],
    "cell_id": "00010-a79e79fe-8d5c-46f2-b720-acf4cd36bef0",
    "deepnote_cell_type": "markdown"
   }
  },
  {
   "cell_type": "markdown",
   "source": "**Exercises** Using while-loops, make the following lists",
   "metadata": {
    "tags": [],
    "cell_id": "00009-8b3bda45-b08c-49e8-b2dc-515d56d7a87f",
    "deepnote_cell_type": "markdown"
   }
  },
  {
   "cell_type": "markdown",
   "source": "[10, 20, 30, 40, 50, 60]",
   "metadata": {
    "tags": [],
    "cell_id": "00015-d1f4b2d5-44b4-4d8e-9cda-daf1a95ef82b",
    "deepnote_cell_type": "markdown"
   }
  },
  {
   "cell_type": "code",
   "metadata": {
    "tags": [],
    "cell_id": "00016-f1ad5ccd-97f1-4377-aa08-db23fb5a729c",
    "deepnote_cell_type": "code"
   },
   "source": "",
   "execution_count": null,
   "outputs": []
  },
  {
   "cell_type": "markdown",
   "source": "['Hi', 'Bye', 'Hi', 'Bye']",
   "metadata": {
    "tags": [],
    "cell_id": "00017-9edaef71-7830-4f8f-9479-4e0dcd9c5d8c",
    "deepnote_cell_type": "markdown"
   }
  },
  {
   "cell_type": "code",
   "metadata": {
    "tags": [],
    "cell_id": "00018-c5dc867b-a020-4ee8-9753-09f9cc11251a",
    "deepnote_cell_type": "code"
   },
   "source": "",
   "execution_count": null,
   "outputs": []
  },
  {
   "cell_type": "markdown",
   "source": "['a', 'g', 'c', 'j']  ->  ['A', 'G', 'C', 'J']",
   "metadata": {
    "tags": [],
    "cell_id": "00015-0c947d86-72e8-464a-ab96-9e92a99cd620",
    "deepnote_cell_type": "markdown"
   }
  },
  {
   "cell_type": "code",
   "metadata": {
    "tags": [],
    "cell_id": "00016-8e75c02b-d2b6-45fa-9254-d034b6c6fc64",
    "deepnote_to_be_reexecuted": false,
    "source_hash": "824dca8b",
    "execution_start": 1637224025807,
    "execution_millis": 7,
    "deepnote_cell_type": "code"
   },
   "source": "old_list = ['a', 'b', 'c', 'd']",
   "outputs": [],
   "execution_count": 1
  },
  {
   "cell_type": "markdown",
   "source": "[5, 3, 7, 10, 30]  -> [50, 30, 70, 100, 300]",
   "metadata": {
    "tags": [],
    "cell_id": "00017-fe3b2e25-cf55-446c-ac3e-5f6ba9fefb02",
    "deepnote_to_be_reexecuted": false,
    "source_hash": "b623e53d",
    "execution_start": 1637224052274,
    "execution_millis": 1,
    "deepnote_cell_type": "markdown"
   }
  },
  {
   "cell_type": "code",
   "metadata": {
    "tags": [],
    "cell_id": "00022-52b0e5aa-c780-4778-898c-5f541c897ad5",
    "deepnote_cell_type": "code"
   },
   "source": "",
   "execution_count": null,
   "outputs": []
  },
  {
   "cell_type": "markdown",
   "source": "<a style='text-decoration:none;line-height:16px;display:flex;color:#5B5B62;padding:10px;justify-content:end;' href='https://deepnote.com?utm_source=created-in-deepnote-cell&projectId=e5e56516-5352-4a43-932d-dc3488255854' target=\"_blank\">\n<img alt='Created in deepnote.com' style='display:inline;max-height:16px;margin:0px;margin-right:7.5px;' src='data:image/svg+xml;base64,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' > </img>\nCreated in <span style='font-weight:600;margin-left:4px;'>Deepnote</span></a>",
   "metadata": {
    "tags": [],
    "created_in_deepnote_cell": true,
    "deepnote_cell_type": "markdown"
   }
  }
 ],
 "nbformat": 4,
 "nbformat_minor": 2,
 "metadata": {
  "orig_nbformat": 2,
  "deepnote": {
   "is_reactive": false
  },
  "deepnote_notebook_id": "f42e368e-66e4-42b7-babe-ba88998f7651",
  "deepnote_execution_queue": []
 }
}